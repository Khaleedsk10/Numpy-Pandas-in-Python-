{
 "cells": [
  {
   "cell_type": "markdown",
   "id": "0b9c19c1-4e5f-49bd-981a-5834bae3b985",
   "metadata": {},
   "source": [
    "# Working With Healthcare Data in Python Using Numpy and Pandas Libraries"
   ]
  },
  {
   "cell_type": "markdown",
   "id": "592bdc8d-41ac-40df-b0f2-c6e6bf82d870",
   "metadata": {},
   "source": [
    "#### Using One-Dimensional Numpy"
   ]
  },
  {
   "cell_type": "code",
   "execution_count": 21,
   "id": "f286e286",
   "metadata": {},
   "outputs": [],
   "source": [
    "#Importing the Packages\n",
    "import numpy as np"
   ]
  },
  {
   "cell_type": "code",
   "execution_count": 25,
   "id": "da75e4df",
   "metadata": {},
   "outputs": [],
   "source": [
    "#Creating a Numpy array with patients ages\n",
    "\n",
    "patient_age = np.array([25, 30, 40, 22, 35, 50, 29, 60, 41, 28])\n",
    "avrg_age = patient_age.mean()"
   ]
  },
  {
   "cell_type": "code",
   "execution_count": 27,
   "id": "e0d8f2af",
   "metadata": {},
   "outputs": [
    {
     "data": {
      "text/plain": [
       "36.0"
      ]
     },
     "execution_count": 27,
     "metadata": {},
     "output_type": "execute_result"
    }
   ],
   "source": [
    "avrg_age"
   ]
  },
  {
   "cell_type": "markdown",
   "id": "5000e65d-fb0e-4e30-b583-560c473a101a",
   "metadata": {},
   "source": [
    "The average age of the patients is 36"
   ]
  },
  {
   "cell_type": "code",
   "execution_count": 31,
   "id": "49c0a8ad",
   "metadata": {},
   "outputs": [
    {
     "data": {
      "text/plain": [
       "300"
      ]
     },
     "execution_count": 31,
     "metadata": {},
     "output_type": "execute_result"
    }
   ],
   "source": [
    "# Creating a Numpy array with the cholesterol levels of patients\n",
    "\n",
    "chol_level = np.array([210, 180, 230, 250, 300, 220, 200, 190])\n",
    "chol_level.max()"
   ]
  },
  {
   "cell_type": "markdown",
   "id": "cf339c2a-14c2-458f-a8aa-a493c2836dbf",
   "metadata": {},
   "source": [
    "The highest cholesterol level from the list is 300"
   ]
  },
  {
   "cell_type": "code",
   "execution_count": 34,
   "id": "601b160e",
   "metadata": {},
   "outputs": [
    {
     "data": {
      "text/plain": [
       "11.055415967851333"
      ]
     },
     "execution_count": 34,
     "metadata": {},
     "output_type": "execute_result"
    }
   ],
   "source": [
    "# Creating a Numpy array of blood pressure readings\n",
    "\n",
    "blood_pre = np.array([120, 130, 140, 135, 125, 110, 145, 120, 130, 140, 150, 135])\n",
    "blood_pre.std()"
   ]
  },
  {
   "cell_type": "markdown",
   "id": "2e976841-cae0-4068-a638-386c5a5c7224",
   "metadata": {},
   "source": [
    "The standard deviation of the blood pressure readings is 11.0554"
   ]
  },
  {
   "cell_type": "code",
   "execution_count": 37,
   "id": "b7b14438",
   "metadata": {},
   "outputs": [
    {
     "data": {
      "text/plain": [
       "37.1"
      ]
     },
     "execution_count": 37,
     "metadata": {},
     "output_type": "execute_result"
    }
   ],
   "source": [
    "# Creating a Numpy array of body temperatures (in Celsius) for patients\n",
    "temperatures = np.array([37.1, 36.5, 37.3, 36.8, 37.0, 38.0, 36.7, 37.2, 36.9, 37.5])\n",
    "temperatures.mean()"
   ]
  },
  {
   "cell_type": "markdown",
   "id": "f285ddfb-ceac-4769-8336-453fe22b1260",
   "metadata": {},
   "source": [
    "The mean temperature for the patients is 37.1"
   ]
  },
  {
   "cell_type": "code",
   "execution_count": 40,
   "id": "46e98e38",
   "metadata": {},
   "outputs": [
    {
     "data": {
      "text/plain": [
       "array([80, 66, 68, 70, 75, 82, 58, 65, 72, 60])"
      ]
     },
     "execution_count": 40,
     "metadata": {},
     "output_type": "execute_result"
    }
   ],
   "source": [
    "# Creating a Numpy array of patient's weight measurements\n",
    "\n",
    "weight = np.array([60, 72, 65, 58, 82, 75, 70, 68, 66, 80])\n",
    "flipped_w = np.flip(weight)   #This reverses the Numpy array\n",
    "flipped_w"
   ]
  },
  {
   "cell_type": "markdown",
   "id": "71e3f07d-093e-46cf-9cdd-8225b784dbfb",
   "metadata": {},
   "source": [
    "#### Using Two-Dimensional Numpy"
   ]
  },
  {
   "cell_type": "code",
   "execution_count": 44,
   "id": "528ee5d8",
   "metadata": {},
   "outputs": [
    {
     "data": {
      "text/plain": [
       "array([[ 25,  70, 120],\n",
       "       [ 30,  80, 130],\n",
       "       [ 40,  85, 140]])"
      ]
     },
     "execution_count": 44,
     "metadata": {},
     "output_type": "execute_result"
    }
   ],
   "source": [
    "# Creating a 3x3 Numpy array with the following patient data (Age, Weight, Blood Pressure)\n",
    "p_data = np.array([[25, 70, 120],[30, 80, 130],[40, 85, 140]])\n",
    "p_data"
   ]
  },
  {
   "cell_type": "code",
   "execution_count": 50,
   "id": "fcd40918",
   "metadata": {},
   "outputs": [
    {
     "data": {
      "text/plain": [
       "130"
      ]
     },
     "execution_count": 50,
     "metadata": {},
     "output_type": "execute_result"
    }
   ],
   "source": [
    "# Accessing the blood pressure of the second patient (Using Index)\n",
    "p_data[1][2]"
   ]
  },
  {
   "cell_type": "markdown",
   "id": "123dab28-067f-4399-b0c3-cac9bc3341b4",
   "metadata": {},
   "source": [
    "The blood pressure of the second patient is 130"
   ]
  },
  {
   "cell_type": "code",
   "execution_count": 57,
   "id": "66ae586c",
   "metadata": {},
   "outputs": [],
   "source": [
    "# Creating a 2D Numpy array of 4x4 representing the results of 4 blood tests with 4 parameters\n",
    "blood_test = np.array([[5.6, 7.1, 6.2, 5.8],\n",
    "[5.3, 6.9, 7.0, 6.5],\n",
    "[5.7, 6.5, 6.8, 6.0],\n",
    "[5.4, 7.0, 6.5, 5.9]]\n",
    ")"
   ]
  },
  {
   "cell_type": "code",
   "execution_count": 61,
   "id": "bcdc6951",
   "metadata": {},
   "outputs": [
    {
     "data": {
      "text/plain": [
       "array([24.7, 25.7, 25. , 24.8])"
      ]
     },
     "execution_count": 61,
     "metadata": {},
     "output_type": "execute_result"
    }
   ],
   "source": [
    "# Summing the values across each row (representing total test results for each patient)\n",
    "np.sum(blood_test,axis=1)"
   ]
  },
  {
   "cell_type": "code",
   "execution_count": 17,
   "id": "0a6b1f35",
   "metadata": {},
   "outputs": [],
   "source": [
    "# Creating a 2D Numpy array with blood sugar levels for 5 patients over 3 visits\n",
    "\n",
    "blood_sugar=np.array([[80, 85, 90],\n",
    "[95, 92, 88],\n",
    "[85, 83, 82],\n",
    "[100, 105, 110],\n",
    "[75, 78, 80]])\n"
   ]
  },
  {
   "cell_type": "code",
   "execution_count": 19,
   "id": "5853a088",
   "metadata": {},
   "outputs": [
    {
     "data": {
      "text/plain": [
       "83.33333333333333"
      ]
     },
     "execution_count": 19,
     "metadata": {},
     "output_type": "execute_result"
    }
   ],
   "source": [
    "blood_sugar[2].mean()"
   ]
  },
  {
   "cell_type": "markdown",
   "id": "68178c51-acbe-48df-82ea-6a198f787d6e",
   "metadata": {},
   "source": [
    "The average blood sugar level for the 3rd patient across all visits is 83.33"
   ]
  },
  {
   "cell_type": "code",
   "execution_count": 68,
   "id": "dafdcbee",
   "metadata": {},
   "outputs": [],
   "source": [
    "# Creating a matrix representing patient BMI values for 3 patients\n",
    "bmi=np.array([[22.1, 23.5],\n",
    "[27.8, 28.0],\n",
    "[21.2, 20.9]])*np.array([60, 70, 80]).reshape(-1,1)  #Element-wise multiplication of BMI and weight "
   ]
  },
  {
   "cell_type": "code",
   "execution_count": 72,
   "id": "67c5859e-ab80-4377-9daf-45da6a96930f",
   "metadata": {},
   "outputs": [
    {
     "data": {
      "text/plain": [
       "array([[1326., 1410.],\n",
       "       [1946., 1960.],\n",
       "       [1696., 1672.]])"
      ]
     },
     "execution_count": 72,
     "metadata": {},
     "output_type": "execute_result"
    }
   ],
   "source": [
    "# The new bmi product\n",
    "bmi"
   ]
  },
  {
   "cell_type": "markdown",
   "id": "380cf53c-d483-4298-802a-2d8d1d828072",
   "metadata": {
    "jupyter": {
     "source_hidden": true
    }
   },
   "source": []
  },
  {
   "cell_type": "code",
   "execution_count": 74,
   "id": "d64f7db5",
   "metadata": {},
   "outputs": [],
   "source": [
    "# Creating a 2x5 Numpy array to represent the temperature data for 2 patients taken over 5 days\n",
    "p_temp=np.array([[37.0, 36.5, 37.1, 36.9, 37.0],\n",
    "[36.8, 37.3, 37.0, 36.7, 37.2]])"
   ]
  },
  {
   "cell_type": "code",
   "execution_count": 31,
   "id": "87e739f5",
   "metadata": {},
   "outputs": [
    {
     "data": {
      "text/plain": [
       "array([37.1, 37.3])"
      ]
     },
     "execution_count": 31,
     "metadata": {},
     "output_type": "execute_result"
    }
   ],
   "source": [
    "np.max(p_temp,axis=1)"
   ]
  },
  {
   "cell_type": "markdown",
   "id": "15e36daa-70d6-4962-929a-9656e02e269a",
   "metadata": {},
   "source": [
    "The maximum temperature for each patient is 37.1 and 37.3"
   ]
  },
  {
   "cell_type": "markdown",
   "id": "5a420038-4a3b-4905-96a3-0121cfe0500e",
   "metadata": {},
   "source": [
    "#### Using Pandas Series"
   ]
  },
  {
   "cell_type": "code",
   "execution_count": null,
   "id": "1531ddba-81d3-4cac-8c4b-26dd5b9555a4",
   "metadata": {},
   "outputs": [],
   "source": [
    "# SERIES"
   ]
  },
  {
   "cell_type": "code",
   "execution_count": null,
   "id": "70ec97ec-7e0a-40d2-9b29-19b5e40a3677",
   "metadata": {},
   "outputs": [],
   "source": []
  },
  {
   "cell_type": "code",
   "execution_count": 78,
   "id": "5ce104f5",
   "metadata": {},
   "outputs": [],
   "source": [
    "import pandas as pd"
   ]
  },
  {
   "cell_type": "code",
   "execution_count": 80,
   "id": "ddbc0cb5-20b2-4082-9e63-f264baaedd8b",
   "metadata": {},
   "outputs": [
    {
     "data": {
      "text/plain": [
       "140"
      ]
     },
     "execution_count": 80,
     "metadata": {},
     "output_type": "execute_result"
    }
   ],
   "source": [
    "# Creating a Pandas series representing the blood pressure readings of 5 patients\n",
    "\n",
    "blood_pressure=pd.Series([120, 130, 140, 135, 125])\n",
    "blood_pressure.max()"
   ]
  },
  {
   "cell_type": "code",
   "execution_count": 9,
   "id": "c32383a8-6172-4ea9-bfe6-c2e867569ffa",
   "metadata": {},
   "outputs": [
    {
     "data": {
      "text/plain": [
       "120"
      ]
     },
     "execution_count": 9,
     "metadata": {},
     "output_type": "execute_result"
    }
   ],
   "source": [
    "blood_pressure.min()"
   ]
  },
  {
   "cell_type": "markdown",
   "id": "174261ba-0ad7-45b2-9831-6aea33214bcd",
   "metadata": {},
   "source": [
    "The blood pressure values has a maximum of 140 and a minimum of 120"
   ]
  },
  {
   "cell_type": "code",
   "execution_count": 83,
   "id": "2b71a7ac-0980-40fa-97fd-67ca0eee1561",
   "metadata": {},
   "outputs": [
    {
     "data": {
      "text/plain": [
       "0    False\n",
       "1    False\n",
       "2    False\n",
       "3     True\n",
       "4     True\n",
       "5    False\n",
       "dtype: bool"
      ]
     },
     "execution_count": 83,
     "metadata": {},
     "output_type": "execute_result"
    }
   ],
   "source": [
    "# Creating a Pandas Series with cholesterol levels for 6 patients\n",
    "\n",
    "chol=pd.Series([210, 180, 220, 250, 280, 230])\n",
    "chol>240"
   ]
  },
  {
   "cell_type": "code",
   "execution_count": 85,
   "id": "d0b98cfd-318b-49ad-8976-a1ae6a79708b",
   "metadata": {},
   "outputs": [
    {
     "data": {
      "text/plain": [
       "3    250\n",
       "4    280\n",
       "dtype: int64"
      ]
     },
     "execution_count": 85,
     "metadata": {},
     "output_type": "execute_result"
    }
   ],
   "source": [
    "chol[chol>240]"
   ]
  },
  {
   "cell_type": "markdown",
   "id": "b2dff031-9c7c-4b2f-9139-ab729f07d0f3",
   "metadata": {},
   "source": [
    "There are only two patients with cholesterol levels above 240; patients at index 3 and 4"
   ]
  },
  {
   "cell_type": "code",
   "execution_count": 88,
   "id": "7d8f22c1-b159-4e23-8eae-447d28a851ee",
   "metadata": {},
   "outputs": [
    {
     "data": {
      "text/plain": [
       "47.5"
      ]
     },
     "execution_count": 88,
     "metadata": {},
     "output_type": "execute_result"
    }
   ],
   "source": [
    "# Creating  a Pandas Series for 10 patients' ages\n",
    "\n",
    "p_age=pd.Series([35, 40, 25, 30, 45, 50, 55, 60, 65, 70])\n",
    "p_age.median()"
   ]
  },
  {
   "cell_type": "markdown",
   "id": "6846d199-60a3-4b2e-9385-bd766ed562c5",
   "metadata": {},
   "source": [
    "The median age of the patients is 47.5"
   ]
  },
  {
   "cell_type": "code",
   "execution_count": 91,
   "id": "fbdf0f55-8f70-46f4-a7eb-6cf0c2767129",
   "metadata": {},
   "outputs": [
    {
     "data": {
      "text/plain": [
       "0    75\n",
       "1    85\n",
       "2    80\n",
       "3    70\n",
       "4    90\n",
       "dtype: int64"
      ]
     },
     "execution_count": 91,
     "metadata": {},
     "output_type": "execute_result"
    }
   ],
   "source": [
    "# Creating a Pandas Series with weight measurements in kilograms for 5 patients\n",
    "\n",
    "p_weight=pd.Series([70, 80, 75, 65, 85])\n",
    "new_p_weight=p_weight + 5             # Adding 5kg to each patient's weight\n",
    "new_p_weight"
   ]
  },
  {
   "cell_type": "code",
   "execution_count": 93,
   "id": "63ffface-5c70-4973-82d6-2143a11ff60d",
   "metadata": {},
   "outputs": [
    {
     "data": {
      "text/plain": [
       "37.17999999999999"
      ]
     },
     "execution_count": 93,
     "metadata": {},
     "output_type": "execute_result"
    }
   ],
   "source": [
    "# Creating a Pandas Series with 10 temperature readings\n",
    "\n",
    "temp=pd.Series([37.2, 36.8, 37.5, 38.0, 36.6, 37.1, 36.9, 37.3, 37.4, 37.0])\n",
    "temp.mean()"
   ]
  },
  {
   "cell_type": "markdown",
   "id": "94d3a719-284a-43d2-9b4c-fde69dd73d76",
   "metadata": {},
   "source": [
    "The average temperature of all 10 patients is 37.1799"
   ]
  },
  {
   "cell_type": "markdown",
   "id": "e75950da-c525-427d-8d5c-df112c582748",
   "metadata": {},
   "source": [
    "#### Using Pandas DataFrame"
   ]
  },
  {
   "cell_type": "code",
   "execution_count": 109,
   "id": "af1a22ad",
   "metadata": {},
   "outputs": [
    {
     "data": {
      "text/plain": [
       "{'Name': ['John', 'Jane', 'Tom', 'Alice'],\n",
       " 'Age': [28, 34, 45, 52],\n",
       " 'Blood Pressure': [120, 130, 140, 150],\n",
       " 'Cholesterol': [200, 220, 240, 260]}"
      ]
     },
     "execution_count": 109,
     "metadata": {},
     "output_type": "execute_result"
    }
   ],
   "source": [
    "# Creating a DataFrame with patient data (Name, Age, Blood Pressure, Cholesterol)\n",
    "data_dic = {'Name': ['John', 'Jane', 'Tom', 'Alice'],\n",
    "        'Age': [28, 34, 45, 52],\n",
    "        'Blood Pressure': [120, 130, 140, 150],\n",
    "        'Cholesterol': [200, 220, 240, 260]}\n",
    "data_dic"
   ]
  },
  {
   "cell_type": "code",
   "execution_count": 149,
   "id": "e3464c53",
   "metadata": {},
   "outputs": [
    {
     "data": {
      "text/html": [
       "<div>\n",
       "<style scoped>\n",
       "    .dataframe tbody tr th:only-of-type {\n",
       "        vertical-align: middle;\n",
       "    }\n",
       "\n",
       "    .dataframe tbody tr th {\n",
       "        vertical-align: top;\n",
       "    }\n",
       "\n",
       "    .dataframe thead th {\n",
       "        text-align: right;\n",
       "    }\n",
       "</style>\n",
       "<table border=\"1\" class=\"dataframe\">\n",
       "  <thead>\n",
       "    <tr style=\"text-align: right;\">\n",
       "      <th></th>\n",
       "      <th>Name</th>\n",
       "      <th>Age</th>\n",
       "      <th>Blood Pressure</th>\n",
       "      <th>Cholesterol</th>\n",
       "    </tr>\n",
       "  </thead>\n",
       "  <tbody>\n",
       "    <tr>\n",
       "      <th>0</th>\n",
       "      <td>John</td>\n",
       "      <td>28</td>\n",
       "      <td>120</td>\n",
       "      <td>200</td>\n",
       "    </tr>\n",
       "    <tr>\n",
       "      <th>1</th>\n",
       "      <td>Jane</td>\n",
       "      <td>34</td>\n",
       "      <td>130</td>\n",
       "      <td>220</td>\n",
       "    </tr>\n",
       "    <tr>\n",
       "      <th>2</th>\n",
       "      <td>Tom</td>\n",
       "      <td>45</td>\n",
       "      <td>140</td>\n",
       "      <td>240</td>\n",
       "    </tr>\n",
       "    <tr>\n",
       "      <th>3</th>\n",
       "      <td>Alice</td>\n",
       "      <td>52</td>\n",
       "      <td>150</td>\n",
       "      <td>260</td>\n",
       "    </tr>\n",
       "  </tbody>\n",
       "</table>\n",
       "</div>"
      ],
      "text/plain": [
       "    Name  Age  Blood Pressure  Cholesterol\n",
       "0   John   28             120          200\n",
       "1   Jane   34             130          220\n",
       "2    Tom   45             140          240\n",
       "3  Alice   52             150          260"
      ]
     },
     "execution_count": 149,
     "metadata": {},
     "output_type": "execute_result"
    }
   ],
   "source": [
    "patients_data1=pd.DataFrame(data_dic)\n",
    "patients_data1"
   ]
  },
  {
   "cell_type": "code",
   "execution_count": 151,
   "id": "f1ecce45",
   "metadata": {},
   "outputs": [
    {
     "data": {
      "text/html": [
       "<div>\n",
       "<style scoped>\n",
       "    .dataframe tbody tr th:only-of-type {\n",
       "        vertical-align: middle;\n",
       "    }\n",
       "\n",
       "    .dataframe tbody tr th {\n",
       "        vertical-align: top;\n",
       "    }\n",
       "\n",
       "    .dataframe thead th {\n",
       "        text-align: right;\n",
       "    }\n",
       "</style>\n",
       "<table border=\"1\" class=\"dataframe\">\n",
       "  <thead>\n",
       "    <tr style=\"text-align: right;\">\n",
       "      <th></th>\n",
       "      <th>Name</th>\n",
       "      <th>Age</th>\n",
       "      <th>Blood Pressure</th>\n",
       "      <th>Cholesterol</th>\n",
       "    </tr>\n",
       "  </thead>\n",
       "  <tbody>\n",
       "    <tr>\n",
       "      <th>2</th>\n",
       "      <td>Tom</td>\n",
       "      <td>45</td>\n",
       "      <td>140</td>\n",
       "      <td>240</td>\n",
       "    </tr>\n",
       "    <tr>\n",
       "      <th>3</th>\n",
       "      <td>Alice</td>\n",
       "      <td>52</td>\n",
       "      <td>150</td>\n",
       "      <td>260</td>\n",
       "    </tr>\n",
       "  </tbody>\n",
       "</table>\n",
       "</div>"
      ],
      "text/plain": [
       "    Name  Age  Blood Pressure  Cholesterol\n",
       "2    Tom   45             140          240\n",
       "3  Alice   52             150          260"
      ]
     },
     "execution_count": 151,
     "metadata": {},
     "output_type": "execute_result"
    }
   ],
   "source": [
    "patients_data1[patients_data1['Cholesterol']>220]"
   ]
  },
  {
   "cell_type": "markdown",
   "id": "2e73b1ad-9dd9-4d6b-8518-1e67c993ba3e",
   "metadata": {},
   "source": [
    "All Patients with cholesterol greater than 220 "
   ]
  },
  {
   "cell_type": "code",
   "execution_count": 153,
   "id": "7a190668",
   "metadata": {},
   "outputs": [
    {
     "data": {
      "text/html": [
       "<div>\n",
       "<style scoped>\n",
       "    .dataframe tbody tr th:only-of-type {\n",
       "        vertical-align: middle;\n",
       "    }\n",
       "\n",
       "    .dataframe tbody tr th {\n",
       "        vertical-align: top;\n",
       "    }\n",
       "\n",
       "    .dataframe thead th {\n",
       "        text-align: right;\n",
       "    }\n",
       "</style>\n",
       "<table border=\"1\" class=\"dataframe\">\n",
       "  <thead>\n",
       "    <tr style=\"text-align: right;\">\n",
       "      <th></th>\n",
       "      <th>Name</th>\n",
       "      <th>Age</th>\n",
       "      <th>Blood Pressure</th>\n",
       "      <th>Cholesterol</th>\n",
       "    </tr>\n",
       "  </thead>\n",
       "  <tbody>\n",
       "    <tr>\n",
       "      <th>0</th>\n",
       "      <td>John</td>\n",
       "      <td>28</td>\n",
       "      <td>120</td>\n",
       "      <td>200</td>\n",
       "    </tr>\n",
       "    <tr>\n",
       "      <th>1</th>\n",
       "      <td>Jane</td>\n",
       "      <td>34</td>\n",
       "      <td>130</td>\n",
       "      <td>220</td>\n",
       "    </tr>\n",
       "    <tr>\n",
       "      <th>2</th>\n",
       "      <td>Tom</td>\n",
       "      <td>45</td>\n",
       "      <td>140</td>\n",
       "      <td>240</td>\n",
       "    </tr>\n",
       "    <tr>\n",
       "      <th>3</th>\n",
       "      <td>Alice</td>\n",
       "      <td>52</td>\n",
       "      <td>150</td>\n",
       "      <td>260</td>\n",
       "    </tr>\n",
       "  </tbody>\n",
       "</table>\n",
       "</div>"
      ],
      "text/plain": [
       "    Name  Age  Blood Pressure  Cholesterol\n",
       "0   John   28             120          200\n",
       "1   Jane   34             130          220\n",
       "2    Tom   45             140          240\n",
       "3  Alice   52             150          260"
      ]
     },
     "execution_count": 153,
     "metadata": {},
     "output_type": "execute_result"
    }
   ],
   "source": [
    "patients_data1"
   ]
  },
  {
   "cell_type": "code",
   "execution_count": 118,
   "id": "4fd0b30d",
   "metadata": {},
   "outputs": [],
   "source": [
    "# Creating a DataFrame to store patient information (Name, Age, Height, Weight, Blood Pressure) \n",
    "data_bmi = {'Name': ['John', 'Jane', 'Tom', 'Alice'],\n",
    "        'Age': [28, 34, 45, 52],\n",
    "        'Blood Pressure': [120, 130, 140, 150],\n",
    "        'Cholesterol': [200, 220, 240, 260],\n",
    "         'Height': [7, 8, 5, 6],\n",
    "          'Weight': [30, 50, 75,65]}"
   ]
  },
  {
   "cell_type": "code",
   "execution_count": 120,
   "id": "22b52765",
   "metadata": {},
   "outputs": [],
   "source": [
    "df_bmi = pd.DataFrame(data_bmi)"
   ]
  },
  {
   "cell_type": "code",
   "execution_count": 122,
   "id": "d369c414",
   "metadata": {},
   "outputs": [],
   "source": [
    "# Adding a new column for BMI where BMI = Weight / (Height^2)\n",
    "\n",
    "df_bmi['BMI'] = df_bmi['Weight'] / (df_bmi['Height'] ** 2)"
   ]
  },
  {
   "cell_type": "code",
   "execution_count": 124,
   "id": "3c37472b",
   "metadata": {},
   "outputs": [
    {
     "name": "stdout",
     "output_type": "stream",
     "text": [
      "    Name  Age  Blood Pressure  Cholesterol  Height  Weight       BMI\n",
      "0   John   28             120          200       7      30  0.612245\n",
      "1   Jane   34             130          220       8      50  0.781250\n",
      "2    Tom   45             140          240       5      75  3.000000\n",
      "3  Alice   52             150          260       6      65  1.805556\n"
     ]
    }
   ],
   "source": [
    "print(df_bmi)"
   ]
  },
  {
   "cell_type": "code",
   "execution_count": 128,
   "id": "ecff44df",
   "metadata": {},
   "outputs": [],
   "source": [
    "# Creating a DataFrame with patient blood test results (Test ID, Patient Name, Result)\n",
    "patient_blood_test = ({'Test ID': [1, 2, 3, 4],\n",
    "                       'Patient Name': ['John', 'Jane', 'Tom', 'Alice'],\n",
    "                       'Result': [5.6, 6.1, 5.8, 6.3]})\n"
   ]
  },
  {
   "cell_type": "code",
   "execution_count": 130,
   "id": "123f5301",
   "metadata": {},
   "outputs": [
    {
     "data": {
      "text/html": [
       "<div>\n",
       "<style scoped>\n",
       "    .dataframe tbody tr th:only-of-type {\n",
       "        vertical-align: middle;\n",
       "    }\n",
       "\n",
       "    .dataframe tbody tr th {\n",
       "        vertical-align: top;\n",
       "    }\n",
       "\n",
       "    .dataframe thead th {\n",
       "        text-align: right;\n",
       "    }\n",
       "</style>\n",
       "<table border=\"1\" class=\"dataframe\">\n",
       "  <thead>\n",
       "    <tr style=\"text-align: right;\">\n",
       "      <th></th>\n",
       "      <th>Test ID</th>\n",
       "      <th>Patient Name</th>\n",
       "      <th>Result</th>\n",
       "    </tr>\n",
       "  </thead>\n",
       "  <tbody>\n",
       "    <tr>\n",
       "      <th>0</th>\n",
       "      <td>1</td>\n",
       "      <td>John</td>\n",
       "      <td>5.6</td>\n",
       "    </tr>\n",
       "    <tr>\n",
       "      <th>1</th>\n",
       "      <td>2</td>\n",
       "      <td>Jane</td>\n",
       "      <td>6.1</td>\n",
       "    </tr>\n",
       "    <tr>\n",
       "      <th>2</th>\n",
       "      <td>3</td>\n",
       "      <td>Tom</td>\n",
       "      <td>5.8</td>\n",
       "    </tr>\n",
       "    <tr>\n",
       "      <th>3</th>\n",
       "      <td>4</td>\n",
       "      <td>Alice</td>\n",
       "      <td>6.3</td>\n",
       "    </tr>\n",
       "  </tbody>\n",
       "</table>\n",
       "</div>"
      ],
      "text/plain": [
       "   Test ID Patient Name  Result\n",
       "0        1         John     5.6\n",
       "1        2         Jane     6.1\n",
       "2        3          Tom     5.8\n",
       "3        4        Alice     6.3"
      ]
     },
     "execution_count": 130,
     "metadata": {},
     "output_type": "execute_result"
    }
   ],
   "source": [
    "patient_df=pd.DataFrame(patient_blood_test)\n",
    "patient_df"
   ]
  },
  {
   "cell_type": "code",
   "execution_count": 134,
   "id": "e333fc49",
   "metadata": {},
   "outputs": [
    {
     "data": {
      "text/html": [
       "<div>\n",
       "<style scoped>\n",
       "    .dataframe tbody tr th:only-of-type {\n",
       "        vertical-align: middle;\n",
       "    }\n",
       "\n",
       "    .dataframe tbody tr th {\n",
       "        vertical-align: top;\n",
       "    }\n",
       "\n",
       "    .dataframe thead th {\n",
       "        text-align: right;\n",
       "    }\n",
       "</style>\n",
       "<table border=\"1\" class=\"dataframe\">\n",
       "  <thead>\n",
       "    <tr style=\"text-align: right;\">\n",
       "      <th></th>\n",
       "      <th>Test ID</th>\n",
       "      <th>Patient Name</th>\n",
       "      <th>Result</th>\n",
       "    </tr>\n",
       "  </thead>\n",
       "  <tbody>\n",
       "    <tr>\n",
       "      <th>1</th>\n",
       "      <td>2</td>\n",
       "      <td>Jane</td>\n",
       "      <td>6.1</td>\n",
       "    </tr>\n",
       "    <tr>\n",
       "      <th>3</th>\n",
       "      <td>4</td>\n",
       "      <td>Alice</td>\n",
       "      <td>6.3</td>\n",
       "    </tr>\n",
       "  </tbody>\n",
       "</table>\n",
       "</div>"
      ],
      "text/plain": [
       "   Test ID Patient Name  Result\n",
       "1        2         Jane     6.1\n",
       "3        4        Alice     6.3"
      ]
     },
     "execution_count": 134,
     "metadata": {},
     "output_type": "execute_result"
    }
   ],
   "source": [
    "# Filtering patients based on test result\n",
    "\n",
    "patient_df[patient_df['Result']>6.0]"
   ]
  },
  {
   "cell_type": "markdown",
   "id": "99b9d5f2-d59a-4179-917f-253eab7faed5",
   "metadata": {},
   "source": [
    "Patients with test result greater than 6.0"
   ]
  },
  {
   "cell_type": "code",
   "execution_count": 139,
   "id": "b92d3e60",
   "metadata": {},
   "outputs": [
    {
     "data": {
      "text/plain": [
       "0    False\n",
       "1     True\n",
       "2    False\n",
       "3     True\n",
       "Name: Result, dtype: bool"
      ]
     },
     "execution_count": 139,
     "metadata": {},
     "output_type": "execute_result"
    }
   ],
   "source": [
    "patient_df['Result']>6.0"
   ]
  },
  {
   "cell_type": "code",
   "execution_count": 155,
   "id": "660be13b",
   "metadata": {},
   "outputs": [],
   "source": [
    "data_dic2=  {'Name': ['John', 'Jane', 'Tom', 'Alice'],\n",
    "        'Age': [28, 34, 45, 52],\n",
    "        'Blood Pressure': [120, 130, 140, 150],\n",
    "        'Cholesterol': [200, 220, 240, 260],\n",
    "         'Height': [7, 8, 5, 6],\n",
    "          'Weight': [30, 50, 75,65]}"
   ]
  },
  {
   "cell_type": "code",
   "execution_count": 157,
   "id": "411b2fd7",
   "metadata": {},
   "outputs": [
    {
     "data": {
      "text/html": [
       "<div>\n",
       "<style scoped>\n",
       "    .dataframe tbody tr th:only-of-type {\n",
       "        vertical-align: middle;\n",
       "    }\n",
       "\n",
       "    .dataframe tbody tr th {\n",
       "        vertical-align: top;\n",
       "    }\n",
       "\n",
       "    .dataframe thead th {\n",
       "        text-align: right;\n",
       "    }\n",
       "</style>\n",
       "<table border=\"1\" class=\"dataframe\">\n",
       "  <thead>\n",
       "    <tr style=\"text-align: right;\">\n",
       "      <th></th>\n",
       "      <th>Name</th>\n",
       "      <th>Age</th>\n",
       "      <th>Blood Pressure</th>\n",
       "      <th>Cholesterol</th>\n",
       "    </tr>\n",
       "  </thead>\n",
       "  <tbody>\n",
       "    <tr>\n",
       "      <th>0</th>\n",
       "      <td>John</td>\n",
       "      <td>28</td>\n",
       "      <td>120</td>\n",
       "      <td>200</td>\n",
       "    </tr>\n",
       "    <tr>\n",
       "      <th>1</th>\n",
       "      <td>Jane</td>\n",
       "      <td>34</td>\n",
       "      <td>130</td>\n",
       "      <td>220</td>\n",
       "    </tr>\n",
       "    <tr>\n",
       "      <th>2</th>\n",
       "      <td>Tom</td>\n",
       "      <td>45</td>\n",
       "      <td>140</td>\n",
       "      <td>240</td>\n",
       "    </tr>\n",
       "    <tr>\n",
       "      <th>3</th>\n",
       "      <td>Alice</td>\n",
       "      <td>52</td>\n",
       "      <td>150</td>\n",
       "      <td>260</td>\n",
       "    </tr>\n",
       "  </tbody>\n",
       "</table>\n",
       "</div>"
      ],
      "text/plain": [
       "    Name  Age  Blood Pressure  Cholesterol\n",
       "0   John   28             120          200\n",
       "1   Jane   34             130          220\n",
       "2    Tom   45             140          240\n",
       "3  Alice   52             150          260"
      ]
     },
     "execution_count": 157,
     "metadata": {},
     "output_type": "execute_result"
    }
   ],
   "source": [
    "patients_data2=pd.DataFrame(data_dic2)\n",
    "patients_data"
   ]
  },
  {
   "cell_type": "code",
   "execution_count": 159,
   "id": "c0dba2b3",
   "metadata": {},
   "outputs": [
    {
     "data": {
      "text/plain": [
       "Age       39.75\n",
       "Height     6.50\n",
       "Weight    55.00\n",
       "dtype: float64"
      ]
     },
     "execution_count": 159,
     "metadata": {},
     "output_type": "execute_result"
    }
   ],
   "source": [
    "#Calculating the average of patient data column uding .mean()\n",
    "\n",
    "patients_data2[['Age','Height','Weight']].mean()"
   ]
  },
  {
   "cell_type": "code",
   "execution_count": 161,
   "id": "19a008ca",
   "metadata": {},
   "outputs": [
    {
     "data": {
      "text/plain": [
       "{'Patient Name': ['John', 'Jane', 'Tom', 'Alice'],\n",
       " 'Treatment Type': ['Surgery', 'Consultation', 'Surgery', 'Consultation'],\n",
       " 'Treatment Date': ['2022-01-01', '2022-02-01', '2022-03-01', '2022-04-01']}"
      ]
     },
     "execution_count": 161,
     "metadata": {},
     "output_type": "execute_result"
    }
   ],
   "source": [
    "# Creating a DataFrame with treatment details (Patient Name, Treatment Type, Treatment Date)\n",
    "treatment_details = {'Patient Name': ['John', 'Jane', 'Tom', 'Alice'],\n",
    "                     'Treatment Type': ['Surgery', 'Consultation', 'Surgery', 'Consultation'],\n",
    "                     'Treatment Date': ['2022-01-01', '2022-02-01', '2022-03-01', '2022-04-01']}\n",
    "treatment_details"
   ]
  },
  {
   "cell_type": "code",
   "execution_count": 163,
   "id": "dc4f1d9e",
   "metadata": {},
   "outputs": [
    {
     "data": {
      "text/html": [
       "<div>\n",
       "<style scoped>\n",
       "    .dataframe tbody tr th:only-of-type {\n",
       "        vertical-align: middle;\n",
       "    }\n",
       "\n",
       "    .dataframe tbody tr th {\n",
       "        vertical-align: top;\n",
       "    }\n",
       "\n",
       "    .dataframe thead th {\n",
       "        text-align: right;\n",
       "    }\n",
       "</style>\n",
       "<table border=\"1\" class=\"dataframe\">\n",
       "  <thead>\n",
       "    <tr style=\"text-align: right;\">\n",
       "      <th></th>\n",
       "      <th>Patient Name</th>\n",
       "      <th>Treatment Type</th>\n",
       "      <th>Treatment Date</th>\n",
       "    </tr>\n",
       "  </thead>\n",
       "  <tbody>\n",
       "    <tr>\n",
       "      <th>0</th>\n",
       "      <td>John</td>\n",
       "      <td>Surgery</td>\n",
       "      <td>2022-01-01</td>\n",
       "    </tr>\n",
       "    <tr>\n",
       "      <th>1</th>\n",
       "      <td>Jane</td>\n",
       "      <td>Consultation</td>\n",
       "      <td>2022-02-01</td>\n",
       "    </tr>\n",
       "    <tr>\n",
       "      <th>2</th>\n",
       "      <td>Tom</td>\n",
       "      <td>Surgery</td>\n",
       "      <td>2022-03-01</td>\n",
       "    </tr>\n",
       "    <tr>\n",
       "      <th>3</th>\n",
       "      <td>Alice</td>\n",
       "      <td>Consultation</td>\n",
       "      <td>2022-04-01</td>\n",
       "    </tr>\n",
       "  </tbody>\n",
       "</table>\n",
       "</div>"
      ],
      "text/plain": [
       "  Patient Name Treatment Type Treatment Date\n",
       "0         John        Surgery     2022-01-01\n",
       "1         Jane   Consultation     2022-02-01\n",
       "2          Tom        Surgery     2022-03-01\n",
       "3        Alice   Consultation     2022-04-01"
      ]
     },
     "execution_count": 163,
     "metadata": {},
     "output_type": "execute_result"
    }
   ],
   "source": [
    "# Passing the treatment details to DataFrame\n",
    "treatment_df = pd.DataFrame(treatment_details)\n",
    "treatment_df"
   ]
  },
  {
   "cell_type": "code",
   "execution_count": 20,
   "id": "006f7290",
   "metadata": {},
   "outputs": [
    {
     "data": {
      "text/html": [
       "<div>\n",
       "<style scoped>\n",
       "    .dataframe tbody tr th:only-of-type {\n",
       "        vertical-align: middle;\n",
       "    }\n",
       "\n",
       "    .dataframe tbody tr th {\n",
       "        vertical-align: top;\n",
       "    }\n",
       "\n",
       "    .dataframe thead th {\n",
       "        text-align: right;\n",
       "    }\n",
       "</style>\n",
       "<table border=\"1\" class=\"dataframe\">\n",
       "  <thead>\n",
       "    <tr style=\"text-align: right;\">\n",
       "      <th></th>\n",
       "      <th>Patient Name</th>\n",
       "      <th>Treatment Type</th>\n",
       "      <th>Treatment Date</th>\n",
       "    </tr>\n",
       "  </thead>\n",
       "  <tbody>\n",
       "    <tr>\n",
       "      <th>0</th>\n",
       "      <td>John</td>\n",
       "      <td>Surgery</td>\n",
       "      <td>2022-01-01</td>\n",
       "    </tr>\n",
       "    <tr>\n",
       "      <th>2</th>\n",
       "      <td>Tom</td>\n",
       "      <td>Surgery</td>\n",
       "      <td>2022-03-01</td>\n",
       "    </tr>\n",
       "  </tbody>\n",
       "</table>\n",
       "</div>"
      ],
      "text/plain": [
       "  Patient Name Treatment Type Treatment Date\n",
       "0         John        Surgery     2022-01-01\n",
       "2          Tom        Surgery     2022-03-01"
      ]
     },
     "execution_count": 20,
     "metadata": {},
     "output_type": "execute_result"
    }
   ],
   "source": [
    "# Finding records with \"Surgery\" treatment \n",
    "\n",
    "treatment_df[treatment_df['Treatment Type']=='Surgery']"
   ]
  },
  {
   "cell_type": "code",
   "execution_count": 29,
   "id": "b766ef14",
   "metadata": {},
   "outputs": [
    {
     "data": {
      "text/html": [
       "<div>\n",
       "<style scoped>\n",
       "    .dataframe tbody tr th:only-of-type {\n",
       "        vertical-align: middle;\n",
       "    }\n",
       "\n",
       "    .dataframe tbody tr th {\n",
       "        vertical-align: top;\n",
       "    }\n",
       "\n",
       "    .dataframe thead th {\n",
       "        text-align: right;\n",
       "    }\n",
       "</style>\n",
       "<table border=\"1\" class=\"dataframe\">\n",
       "  <thead>\n",
       "    <tr style=\"text-align: right;\">\n",
       "      <th></th>\n",
       "      <th>Patient Name</th>\n",
       "      <th>Treatment Type</th>\n",
       "      <th>Treatment Date</th>\n",
       "    </tr>\n",
       "  </thead>\n",
       "  <tbody>\n",
       "    <tr>\n",
       "      <th>1</th>\n",
       "      <td>Jane</td>\n",
       "      <td>Consultation</td>\n",
       "      <td>2022-02-01</td>\n",
       "    </tr>\n",
       "    <tr>\n",
       "      <th>2</th>\n",
       "      <td>Tom</td>\n",
       "      <td>Surgery</td>\n",
       "      <td>2022-03-01</td>\n",
       "    </tr>\n",
       "    <tr>\n",
       "      <th>3</th>\n",
       "      <td>Alice</td>\n",
       "      <td>Consultation</td>\n",
       "      <td>2022-04-01</td>\n",
       "    </tr>\n",
       "  </tbody>\n",
       "</table>\n",
       "</div>"
      ],
      "text/plain": [
       "  Patient Name Treatment Type Treatment Date\n",
       "1         Jane   Consultation     2022-02-01\n",
       "2          Tom        Surgery     2022-03-01\n",
       "3        Alice   Consultation     2022-04-01"
      ]
     },
     "execution_count": 29,
     "metadata": {},
     "output_type": "execute_result"
    }
   ],
   "source": [
    "treatment_df.tail(-1)"
   ]
  },
  {
   "cell_type": "code",
   "execution_count": null,
   "id": "da694100",
   "metadata": {},
   "outputs": [],
   "source": []
  }
 ],
 "metadata": {
  "kernelspec": {
   "display_name": "Python 3 (ipykernel)",
   "language": "python",
   "name": "python3"
  },
  "language_info": {
   "codemirror_mode": {
    "name": "ipython",
    "version": 3
   },
   "file_extension": ".py",
   "mimetype": "text/x-python",
   "name": "python",
   "nbconvert_exporter": "python",
   "pygments_lexer": "ipython3",
   "version": "3.12.7"
  }
 },
 "nbformat": 4,
 "nbformat_minor": 5
}
